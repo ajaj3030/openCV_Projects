{
 "cells": [
  {
   "cell_type": "markdown",
   "metadata": {},
   "source": [
    "## Face Detection "
   ]
  },
  {
   "cell_type": "markdown",
   "metadata": {},
   "source": [
    "#### Imports"
   ]
  },
  {
   "cell_type": "code",
   "execution_count": 3,
   "metadata": {},
   "outputs": [],
   "source": [
    "import cv2\n",
    "import requests\n",
    "import os"
   ]
  },
  {
   "cell_type": "code",
   "execution_count": 4,
   "metadata": {},
   "outputs": [],
   "source": [
    "\n",
    "# Define the URLs for the XML files\n",
    "face_url = 'https://raw.githubusercontent.com/opencv/opencv/master/data/haarcascades/haarcascade_frontalface_default.xml'\n",
    "eye_url = 'https://raw.githubusercontent.com/opencv/opencv/master/data/haarcascades/haarcascade_eye.xml'\n",
    "\n",
    "# Define the directory to save the files\n",
    "data_dir = 'data/haarcascades'\n",
    "\n",
    "# Create the directory if it doesn't exist\n",
    "if not os.path.exists(data_dir):\n",
    "    os.makedirs(data_dir)\n",
    "\n",
    "# Download the files if they don't exist\n",
    "face_file = os.path.join(data_dir, 'haarcascade_frontalface_default.xml')\n",
    "eye_file = os.path.join(data_dir, 'haarcascade_eye.xml')\n",
    "\n",
    "if not os.path.exists(face_file):\n",
    "    response = requests.get(face_url)\n",
    "    with open(face_file, 'wb') as f:\n",
    "        f.write(response.content)\n",
    "\n",
    "if not os.path.exists(eye_file):\n",
    "    response = requests.get(eye_url)\n",
    "    with open(eye_file, 'wb') as f:\n",
    "        f.write(response.content)\n",
    "\n",
    "# Load the XML files\n",
    "face_cascade = cv2.CascadeClassifier(face_file)\n",
    "eye_cascade = cv2.CascadeClassifier(eye_file)"
   ]
  },
  {
   "cell_type": "code",
   "execution_count": null,
   "metadata": {},
   "outputs": [],
   "source": [
    "# capture frames from a camera\n",
    "cap = cv2.VideoCapture(0)\n",
    "\n",
    "# loop runs if capturing has been initialized.\n",
    "while 1: \n",
    "\n",
    "    # reads frames from a camera\n",
    "    ret, img = cap.read() \n",
    "\n",
    "    # convert to gray scale of each frames\n",
    "    gray = cv2.cvtColor(img, cv2.COLOR_BGR2GRAY)\n",
    "\n",
    "    # Detects faces of different sizes in the input image\n",
    "    faces = face_cascade.detectMultiScale(gray, 1.3, 5)\n",
    "\n",
    "    for (x,y,w,h) in faces:\n",
    "        # To draw a rectangle in a face \n",
    "        cv2.rectangle(img,(x,y),(x+w,y+h),(255,255,0),2) \n",
    "        roi_gray = gray[y:y+h, x:x+w]\n",
    "        roi_color = img[y:y+h, x:x+w]\n",
    "\n",
    "        # Detects eyes of different sizes in the input image\n",
    "        eyes = eye_cascade.detectMultiScale(roi_gray) \n",
    "\n",
    "        #To draw a rectangle in eyes\n",
    "        for (ex,ey,ew,eh) in eyes:\n",
    "            cv2.rectangle(roi_color,(ex,ey),(ex+ew,ey+eh),(0,127,255),2)\n",
    "\n",
    "    # Display an image in a window\n",
    "    cv2.imshow('img',img)\n",
    "\n",
    "    # Wait for Esc key to stop\n",
    "    k = cv2.waitKey(30) & 0xff\n",
    "    if k == 27:\n",
    "        break\n",
    "\n",
    "# Close the window\n",
    "cap.release()\n",
    "\n",
    "# De-allocate any associated memory usage\n",
    "cv2.destroyAllWindows()"
   ]
  }
 ],
 "metadata": {
  "kernelspec": {
   "display_name": "venv",
   "language": "python",
   "name": "python3"
  },
  "language_info": {
   "codemirror_mode": {
    "name": "ipython",
    "version": 3
   },
   "file_extension": ".py",
   "mimetype": "text/x-python",
   "name": "python",
   "nbconvert_exporter": "python",
   "pygments_lexer": "ipython3",
   "version": "3.13.1"
  }
 },
 "nbformat": 4,
 "nbformat_minor": 2
}
